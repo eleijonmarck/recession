{
 "cells": [
  {
   "cell_type": "markdown",
   "metadata": {},
   "source": [
    "# How to spot a recession\n",
    "\n",
    "Do we actually live in a recession currently? We are overwhelmed with information about the recession coming or not. Why would you want to spot a recession? \n",
    "- You can for sure invest correctly in the market\n",
    "- Know that times might get a bit worse\n",
    "- Generally recessions is a good time for investments as well\n",
    "\n",
    "Ms Sahm in a [report](http://www.hamiltonproject.org/papers/direct_stimulus_payments_to_individuals) argues that when the three-month average unemployment rate is at least 0.5 percentage points above its minimum from the previous 12 months, the economy is in a recession. Let's check it out.\n",
    "\n",
    "Grabbing data from [tradingeconomics](https://tradingeconomics.com/united-states/unemployment-rate) to collect the monthly unemployment rates.\n",
    "\n",
    "Edit:\n",
    "Correction of the recession checker from the [brookings](https://www.brookings.edu/blog/up-front/2019/06/06/how-will-we-know-when-a-recession-is-coming/) with regards to taking care of spikes to use moving average of 3 months."
   ]
  },
  {
   "cell_type": "code",
   "execution_count": 1,
   "metadata": {},
   "outputs": [],
   "source": [
    "import pandas as pd\n",
    "import altair as alt"
   ]
  },
  {
   "cell_type": "code",
   "execution_count": 117,
   "metadata": {},
   "outputs": [],
   "source": [
    "unemployment = {\n",
    "    '2018-10-01': 3.8,\n",
    "    '2018-11-01': 3.7,\n",
    "    '2018-12-01': 3.9,\n",
    "    '2019-01-01': 4.0,\n",
    "    '2019-02-01': 3.8,\n",
    "    '2019-03-01': 3.8,\n",
    "    '2019-04-01': 3.6,\n",
    "    '2019-05-01': 3.6,\n",
    "    '2019-06-01': 3.7,\n",
    "    '2019-07-01': 3.7,\n",
    "    '2019-08-01': 3.7,\n",
    "    '2019-09-01': 3.5,\n",
    "}"
   ]
  },
  {
   "cell_type": "code",
   "execution_count": 118,
   "metadata": {},
   "outputs": [],
   "source": [
    "df = pd.DataFrame(unemployment.values(), index=unemployment.keys(), columns=['unemployment_rate'])"
   ]
  },
  {
   "cell_type": "code",
   "execution_count": 119,
   "metadata": {},
   "outputs": [
    {
     "data": {
      "text/html": [
       "<div>\n",
       "<style scoped>\n",
       "    .dataframe tbody tr th:only-of-type {\n",
       "        vertical-align: middle;\n",
       "    }\n",
       "\n",
       "    .dataframe tbody tr th {\n",
       "        vertical-align: top;\n",
       "    }\n",
       "\n",
       "    .dataframe thead th {\n",
       "        text-align: right;\n",
       "    }\n",
       "</style>\n",
       "<table border=\"1\" class=\"dataframe\">\n",
       "  <thead>\n",
       "    <tr style=\"text-align: right;\">\n",
       "      <th></th>\n",
       "      <th>unemployment_rate</th>\n",
       "    </tr>\n",
       "  </thead>\n",
       "  <tbody>\n",
       "    <tr>\n",
       "      <th>2018-10-01</th>\n",
       "      <td>3.8</td>\n",
       "    </tr>\n",
       "    <tr>\n",
       "      <th>2018-11-01</th>\n",
       "      <td>3.7</td>\n",
       "    </tr>\n",
       "    <tr>\n",
       "      <th>2018-12-01</th>\n",
       "      <td>3.9</td>\n",
       "    </tr>\n",
       "    <tr>\n",
       "      <th>2019-01-01</th>\n",
       "      <td>4.0</td>\n",
       "    </tr>\n",
       "    <tr>\n",
       "      <th>2019-02-01</th>\n",
       "      <td>3.8</td>\n",
       "    </tr>\n",
       "    <tr>\n",
       "      <th>2019-03-01</th>\n",
       "      <td>3.8</td>\n",
       "    </tr>\n",
       "    <tr>\n",
       "      <th>2019-04-01</th>\n",
       "      <td>3.6</td>\n",
       "    </tr>\n",
       "    <tr>\n",
       "      <th>2019-05-01</th>\n",
       "      <td>3.6</td>\n",
       "    </tr>\n",
       "    <tr>\n",
       "      <th>2019-06-01</th>\n",
       "      <td>3.7</td>\n",
       "    </tr>\n",
       "    <tr>\n",
       "      <th>2019-07-01</th>\n",
       "      <td>3.7</td>\n",
       "    </tr>\n",
       "    <tr>\n",
       "      <th>2019-08-01</th>\n",
       "      <td>3.7</td>\n",
       "    </tr>\n",
       "    <tr>\n",
       "      <th>2019-09-01</th>\n",
       "      <td>3.5</td>\n",
       "    </tr>\n",
       "  </tbody>\n",
       "</table>\n",
       "</div>"
      ],
      "text/plain": [
       "            unemployment_rate\n",
       "2018-10-01                3.8\n",
       "2018-11-01                3.7\n",
       "2018-12-01                3.9\n",
       "2019-01-01                4.0\n",
       "2019-02-01                3.8\n",
       "2019-03-01                3.8\n",
       "2019-04-01                3.6\n",
       "2019-05-01                3.6\n",
       "2019-06-01                3.7\n",
       "2019-07-01                3.7\n",
       "2019-08-01                3.7\n",
       "2019-09-01                3.5"
      ]
     },
     "execution_count": 119,
     "metadata": {},
     "output_type": "execute_result"
    }
   ],
   "source": [
    "df"
   ]
  },
  {
   "cell_type": "markdown",
   "metadata": {},
   "source": [
    "# Recession\n",
    "$$\n",
    "r_{\\text{min}} = min(u_{\\text{12}})\n",
    "$$\n",
    "$$\n",
    "r_{\\text{ma3}} = m_{a}(u_{\\text{3}})\n",
    "$$\n",
    "\n",
    "$$\n",
    "r_{\\text{ma3}} > r_{\\text{min}} + 0.5 \\rightarrow \\textbf{R} = 1\n",
    "$$\n",
    "\n",
    "where\n",
    "\n",
    "$u_{\\text{12}}$ - last 12 months of unemployment rates\n",
    "\n",
    "$u_{\\text{3}}$ - last 3 months of unemployment rates\n",
    "\n",
    "$r_{\\text{min}}$ - the minimum unemployment rate for the last 12 months\n",
    "\n",
    "$r_{\\text{ma3}}$ - the moving average of the last 3 months\n",
    "\n",
    "$\\textbf{R}$ - recession"
   ]
  },
  {
   "cell_type": "markdown",
   "metadata": {},
   "source": [
    "# Creating the calculations\n",
    "\n",
    "\n",
    "This is the actual formula for calculating if the recession is already happening"
   ]
  },
  {
   "cell_type": "code",
   "execution_count": 120,
   "metadata": {},
   "outputs": [],
   "source": [
    "r_min = min(df['unemployment_rate'])\n",
    "r_ma3 = df['unemployment_rate'].rolling(3).mean().tail(1)[0]\n",
    "\n",
    "recession = r_ma3 > r_min + 0.5"
   ]
  },
  {
   "cell_type": "code",
   "execution_count": 121,
   "metadata": {},
   "outputs": [
    {
     "data": {
      "text/plain": [
       "False"
      ]
     },
     "execution_count": 121,
     "metadata": {},
     "output_type": "execute_result"
    }
   ],
   "source": [
    "recession"
   ]
  },
  {
   "cell_type": "code",
   "execution_count": 122,
   "metadata": {},
   "outputs": [
    {
     "data": {
      "application/vnd.vegalite.v3+json": {
       "$schema": "https://vega.github.io/schema/vega-lite/v3.4.0.json",
       "config": {
        "mark": {
         "tooltip": null
        },
        "view": {
         "height": 300,
         "width": 400
        }
       },
       "data": {
        "name": "data-c9293783ab090a0bda9d0d3ecd94cbde"
       },
       "datasets": {
        "data-c9293783ab090a0bda9d0d3ecd94cbde": [
         {
          "date": "2018-10-01",
          "r_limit": 4,
          "r_ma3": 3.633333333333334,
          "r_min": 3.5,
          "unemployment_rate": 3.8
         },
         {
          "date": "2018-11-01",
          "r_limit": 4,
          "r_ma3": 3.633333333333334,
          "r_min": 3.5,
          "unemployment_rate": 3.7
         },
         {
          "date": "2018-12-01",
          "r_limit": 4,
          "r_ma3": 3.633333333333334,
          "r_min": 3.5,
          "unemployment_rate": 3.9
         },
         {
          "date": "2019-01-01",
          "r_limit": 4,
          "r_ma3": 3.633333333333334,
          "r_min": 3.5,
          "unemployment_rate": 4
         },
         {
          "date": "2019-02-01",
          "r_limit": 4,
          "r_ma3": 3.633333333333334,
          "r_min": 3.5,
          "unemployment_rate": 3.8
         },
         {
          "date": "2019-03-01",
          "r_limit": 4,
          "r_ma3": 3.633333333333334,
          "r_min": 3.5,
          "unemployment_rate": 3.8
         },
         {
          "date": "2019-04-01",
          "r_limit": 4,
          "r_ma3": 3.633333333333334,
          "r_min": 3.5,
          "unemployment_rate": 3.6
         },
         {
          "date": "2019-05-01",
          "r_limit": 4,
          "r_ma3": 3.633333333333334,
          "r_min": 3.5,
          "unemployment_rate": 3.6
         },
         {
          "date": "2019-06-01",
          "r_limit": 4,
          "r_ma3": 3.633333333333334,
          "r_min": 3.5,
          "unemployment_rate": 3.7
         },
         {
          "date": "2019-07-01",
          "r_limit": 4,
          "r_ma3": 3.633333333333334,
          "r_min": 3.5,
          "unemployment_rate": 3.7
         },
         {
          "date": "2019-08-01",
          "r_limit": 4,
          "r_ma3": 3.633333333333334,
          "r_min": 3.5,
          "unemployment_rate": 3.7
         },
         {
          "date": "2019-09-01",
          "r_limit": 4,
          "r_ma3": 3.633333333333334,
          "r_min": 3.5,
          "unemployment_rate": 3.5
         }
        ]
       },
       "layer": [
        {
         "encoding": {
          "x": {
           "field": "date",
           "type": "temporal"
          },
          "y": {
           "field": "unemployment_rate",
           "type": "quantitative"
          }
         },
         "mark": "bar"
        },
        {
         "encoding": {
          "x": {
           "field": "date",
           "type": "temporal"
          },
          "y": {
           "field": "r_limit",
           "type": "quantitative"
          }
         },
         "mark": {
          "color": "red",
          "type": "line"
         }
        },
        {
         "encoding": {
          "x": {
           "field": "date",
           "type": "temporal"
          },
          "y": {
           "field": "r_ma3",
           "type": "quantitative"
          }
         },
         "mark": {
          "color": "yellow",
          "type": "line"
         }
        }
       ]
      },
      "image/png": "[encoded data removed]",
      "text/plain": [
       "<VegaLite 3 object>\n",
       "\n",
       "If you see this message, it means the renderer has not been properly enabled\n",
       "for the frontend that you are using. For more information, see\n",
       "https://altair-viz.github.io/user_guide/troubleshooting.html\n"
      ]
     },
     "execution_count": 122,
     "metadata": {},
     "output_type": "execute_result"
    }
   ],
   "source": [
    "dates = df.index\n",
    "df['date'] = dates\n",
    "df['r_min'] = r_min\n",
    "df['r_limit'] = r_min + 0.5\n",
    "df['r_ma3'] = r_ma3\n",
    "\n",
    "base = alt.Chart(df).encode(\n",
    "    x='date:T'\n",
    ")\n",
    "bars = base.mark_bar().encode(\n",
    "    y='unemployment_rate:Q'\n",
    ")\n",
    "rule = base.mark_line(color='red').encode(\n",
    "    y='r_limit:Q',\n",
    ")\n",
    "rule2 = base.mark_line(color='yellow').encode(\n",
    "    y='r_ma3:Q',\n",
    ")\n",
    "bars + rule + rule2"
   ]
  },
  {
   "cell_type": "markdown",
   "metadata": {},
   "source": [
    "If the yellow line crosses the red line then we would have a recession."
   ]
  }
 ],
 "metadata": {
  "kernelspec": {
   "display_name": "Python 3",
   "language": "python",
   "name": "python3"
  },
  "language_info": {
   "codemirror_mode": {
    "name": "ipython",
    "version": 3
   },
   "file_extension": ".py",
   "mimetype": "text/x-python",
   "name": "python",
   "nbconvert_exporter": "python",
   "pygments_lexer": "ipython3",
   "version": "3.7.5rc1"
  }
 },
 "nbformat": 4,
 "nbformat_minor": 4
}
